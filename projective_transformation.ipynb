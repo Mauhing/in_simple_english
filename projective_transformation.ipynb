{
 "cells": [
  {
   "cell_type": "markdown",
   "metadata": {},
   "source": [
    "# Projective 2D transformations\n",
    "\n",
    "In this notebook, I will have a look at different 2D transformations and particularly how the matrices for these transformation look like.\n",
    "All of the following matrices are used to transform 2D points, represented in homogeneous coordinates.\n",
    "$$\n",
    "x' = Tx\n",
    "$$\n",
    "\n",
    "If you are also looking for more detailed explanations, have a look at this book [Photogrammetric Computer Vision](http://www.ipb.uni-bonn.de/book-pcv/). This is where I get my inspiration from :smile:\n",
    "\n",
    "\n",
    "## Translation of the points\n",
    "\n",
    "Let's first look at the simplest transformation --- **shift**. If I want to move my points $x$ by an amount $t_x$ in $x$ direction and $t_y$ in $y$ direction, so the matrix will look like:\n",
    "$$ T=\n",
    "\\begin{pmatrix}\n",
    "1 & 0 & t_x \\\\\n",
    "0 & 1 & t_y \\\\\n",
    "0 & 0 & 1\n",
    "\\end{pmatrix}\n",
    "$$"
   ]
  },
  {
   "cell_type": "code",
   "execution_count": null,
   "metadata": {},
   "outputs": [],
   "source": [
    "import numpy as np\n",
    "import matplotlib.pyplot as plt\n",
    "\n",
    "u_points = np.array([[0,1,1,0,0],[0,0,1,1,0], [1,1,1,1,1]])\n",
    "tx = 0.5\n",
    "ty = 0.5\n",
    "T = np.array([[1, 0, tx], \n",
    "              [0, 1, ty],\n",
    "              [0, 0, 1]])\n",
    "p = T.dot(u_points)\n",
    "plt.plot(u_points[0,:], u_points[1,:], '*-');\n",
    "plt.plot(p[0,:], p[1,:], '*-');"
   ]
  },
  {
   "cell_type": "markdown",
   "metadata": {},
   "source": [
    "## Rotation\n",
    "In case of rotation, if we want to rotate for an angle $\\phi$, the matrix would then have a following form:\n",
    "\n",
    "$$ T=\n",
    "\\begin{pmatrix}\n",
    "\\cos(\\phi) & -\\sin(\\phi) & 0 \\\\\n",
    "\\sin(\\phi) & \\cos(\\phi) & 0 \\\\\n",
    "0 & 0 & 1\n",
    "\\end{pmatrix}\n",
    "$$\n",
    "\n",
    "A great introduction to linear algebra and transformation of basis vector are simply explained in [3blue1brown.algebra](https://www.youtube.com/watch?v=fNk_zzaMoSs&list=PLZHQObOWTQDPD3MizzM2xVFitgF8hE_ab)"
   ]
  },
  {
   "cell_type": "code",
   "execution_count": null,
   "metadata": {},
   "outputs": [],
   "source": [
    "phi = np.pi/6\n",
    "R = np.array([[np.cos(phi), -np.sin(phi), 0], \n",
    "              [np.sin(phi), np.cos(phi), 0],\n",
    "              [0, 0, 1]])\n",
    "p = R.dot(u_points)\n",
    "print(p)\n",
    "plt.plot(u_points[0,:], u_points[1,:]);\n",
    "plt.plot(p[0,:], p[1,:]);"
   ]
  },
  {
   "cell_type": "markdown",
   "metadata": {},
   "source": [
    "# Projective transform\n",
    " \n",
    "The most general 2D transformations.\n",
    "\n",
    "Can incorporate every other tranformation: rotation, translation, skew, scale.\n",
    "This mapping is only straight line preserving, nothing else.\n"
   ]
  },
  {
   "cell_type": "code",
   "execution_count": null,
   "metadata": {},
   "outputs": [],
   "source": [
    "P_simple = np.array([[1, 0, 0.2], \n",
    "              [0, 1, 0.2],\n",
    "              [2, -0.5, 2]])\n",
    "P = P_simple\n",
    "print(P)\n",
    "p = P.dot(u_points)\n",
    "p = p / p[2,:]\n",
    "plt.plot(u_points[0,:], u_points[1,:], '*-');\n",
    "plt.plot(p[0,:], p[1,:], '*-');"
   ]
  },
  {
   "cell_type": "markdown",
   "metadata": {},
   "source": [
    "## Projective Transform from point correspondences\n",
    "\n",
    "Here I am going to check if computing the transformation matrix from point correspondences gives the same projective matrix that I used to tranform unit square in a first place :)\n",
    "For this we need to construct a system of equation from which we would want to find a matrix:\n",
    "We start from\n",
    "$$\n",
    "\\begin{bmatrix} x'\\\\ y'\\\\ 1 \\end{bmatrix} = \n",
    "\\begin{pmatrix}\n",
    "a_{11} & a_{12} & a_{13} \\\\\n",
    "a_{21} & a_{22} & a_{23} \\\\\n",
    "a_{31} & a_{32} & a_{33} \n",
    "\\end{pmatrix}\n",
    "\\begin{bmatrix} x \\\\ y\\\\ 1 \\end{bmatrix}\n",
    "$$\n",
    "If we look a this from the perspective of the system of equation, then $x'$ can be found as:\n",
    "$$\n",
    "    x' = \\frac{a_{11}x + a_{12}y + a_{13}}{a_{31}x + a_{32}y + a_{33}}\n",
    "$$\n",
    "\n",
    "Then for every point correspondence (x,y) <-> (x',y'), we would get 2 equations:\n",
    "$$\n",
    "    \\begin{cases}\n",
    "    a_{11}x + a_{12}y + a_{13} = x'xa_{31} + x'ya_{32} + x'a_{33} \\\\\n",
    "     a_{21}x + a_{22}y + a_{23} = x'xa_{31} + x'ya_{32} + x'a_{33}\n",
    "    \\end{cases}\n",
    "$$\n",
    "Then rearranging everything  to one side would give\n",
    "$$\n",
    "    \\begin{cases}\n",
    "    a_{11}x + a_{12}y + a_{13} - x'xa_{31} - x'ya_{32} - x'a_{33} = 0 \\\\\n",
    "    a_{21}x + a_{22}y + a_{23} - x'xa_{31} - x'ya_{32} - x'a_{33} = 0\n",
    "    \\end{cases}\n",
    "$$\n",
    "Every point correspondence gives us two equations and projective matrix has 8 degrees of freedom (...) so we would need at least 4 point correspondences to constraint this system.\n",
    "If we stack them under each other and rewrite in matrix form, we will have the following system:\n",
    "$$\n",
    "\\begin{bmatrix} \n",
    "x & y & 1 & 0 & 0 & 0 & -x'x & -x'y & -x' \\\\ \n",
    "0 & 0 & 0 & x & y & 1 & -y'x & -y'y & -y' \n",
    "\\end{bmatrix}\n",
    "\\begin{bmatrix} a_{11} \\\\ a_{12} \\\\a_{13} \\\\a_{21} \\\\ ... \\\\ a_{33}\n",
    "\\end{bmatrix} \n",
    "= 0\n",
    "$$\n",
    "This is a homogeneous system of equations of the form $Xa = 0$, where we need to find $a$, don't confuse with $x$.\n",
    "If in doubt about how to solve this, check my other notebook [system_of_equations](https://github.com/ovysotska/in_simple_english/blob/master/system_of_linear_equations.ipynb).\n",
    "\n",
    "We are solving it here by using SVD. \n",
    "\n",
    "And btw, this matrix we find is called a **homography**. A transformation matrix that maps one set of points to another."
   ]
  },
  {
   "cell_type": "code",
   "execution_count": null,
   "metadata": {},
   "outputs": [],
   "source": [
    "# computing A matrix \n",
    "up = u_points\n",
    "\n",
    "D = np.array([], dtype=np.int64).reshape(0,9) # design matrix\n",
    "\n",
    "## p = H*up\n",
    "\n",
    "for col in range(up.shape[1] - 1): \n",
    "    tmp = np.array([\n",
    "        [up[0,col], up[1,col],1,0,0,0, -p[0,col]*up[0,col], -p[0,col]*up[1,col], -p[0,col]],\n",
    "        [0,0,0, up[0,col], up[1,col], 1,-p[1,col]*up[0,col], -p[1,col]*up[1,col], -p[1,col]]\n",
    "    ])\n",
    "    D = np.vstack([D, tmp])\n",
    "\n",
    "# solving Dx = 0 to find x -> closest non trivial solution, since we have underdetermined system(?) \n",
    "[U, S, Vt] = np.linalg.svd(D)\n",
    "H = Vt[-1].reshape(3, 3)\n",
    "\n",
    "p_h = H.dot(u_points)\n",
    "p_h = p_h / p_h[2,:]\n",
    "\n",
    "plt.plot(u_points[0,:], u_points[1,:]);\n",
    "plt.plot(p[0,:], p[1,:], linewidth = 5);\n",
    "plt.plot(p_h[0,:], p_h[1,:]);\n",
    "\n",
    "# even though the values of P and H are not the same, they should be the same up to a scale\n",
    "print(\"Projective\", P)\n",
    "print(\"Homography\", H)\n",
    " \n",
    "# We can see that the matrices lead to the same tranformation \n",
    "    "
   ]
  },
  {
   "cell_type": "markdown",
   "metadata": {},
   "source": [
    "TODO: Do with using Kronecker product\n"
   ]
  },
  {
   "cell_type": "code",
   "execution_count": null,
   "metadata": {},
   "outputs": [],
   "source": [
    "# Add a picture"
   ]
  }
 ],
 "metadata": {
  "kernelspec": {
   "display_name": "Python 3",
   "language": "python",
   "name": "python3"
  },
  "language_info": {
   "codemirror_mode": {
    "name": "ipython",
    "version": 3
   },
   "file_extension": ".py",
   "mimetype": "text/x-python",
   "name": "python",
   "nbconvert_exporter": "python",
   "pygments_lexer": "ipython3",
   "version": "3.6.9"
  }
 },
 "nbformat": 4,
 "nbformat_minor": 2
}
